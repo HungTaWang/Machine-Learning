{
 "cells": [
  {
   "cell_type": "markdown",
   "metadata": {},
   "source": [
    "# Stochastic_Process_HW6"
   ]
  },
  {
   "cell_type": "markdown",
   "metadata": {},
   "source": [
    "## 王泓達_R13546017"
   ]
  },
  {
   "cell_type": "markdown",
   "metadata": {},
   "source": [
    "### 1."
   ]
  },
  {
   "cell_type": "code",
   "execution_count": 2,
   "metadata": {},
   "outputs": [
    {
     "data": {
      "text/latex": [
       "$\\displaystyle \\left[\\begin{matrix}0.381 & 0.382 & 0.237 & 0 & 0 & 0\\\\0.382 & 0.381 & 0.237 & 0 & 0 & 0\\\\0.395 & 0.395 & 0.21 & 0 & 0 & 0\\\\0.151 & 0.151 & 0.072 & 0.305 & 0.261 & 0.06\\\\0.068 & 0.068 & 0.024 & 0.348 & 0.305 & 0.187\\\\0 & 0 & 0 & 0 & 0 & 1\\end{matrix}\\right]$"
      ],
      "text/plain": [
       "Matrix([\n",
       "[0.381, 0.382, 0.237,     0,     0,     0],\n",
       "[0.382, 0.381, 0.237,     0,     0,     0],\n",
       "[0.395, 0.395,  0.21,     0,     0,     0],\n",
       "[0.151, 0.151, 0.072, 0.305, 0.261,  0.06],\n",
       "[0.068, 0.068, 0.024, 0.348, 0.305, 0.187],\n",
       "[    0,     0,     0,     0,     0,     1]])"
      ]
     },
     "execution_count": 2,
     "metadata": {},
     "output_type": "execute_result"
    }
   ],
   "source": [
    "from sympy import shape\n",
    "import sympy as sp\n",
    "import random \n",
    "A = sp.Matrix([[0.3,0.4,0.3,0,0,0], [0.4,0.3,0.3,0,0,0], [0.5,0.5,0,0,0,0], [0.1,0.1,0,0.5,0.3,0], [0,0,0,0.4,0.5,0.1], [0,0,0,0,0,1] ])\n",
    "\n",
    "A**3"
   ]
  },
  {
   "cell_type": "code",
   "execution_count": 23,
   "metadata": {},
   "outputs": [
    {
     "data": {
      "text/latex": [
       "$\\displaystyle \\left[\\begin{matrix}0.384615384615437 & 0.384615384615437 & 0.230769230769262 & 0 & 0 & 0\\\\0.384615384615437 & 0.384615384615437 & 0.230769230769262 & 0 & 0 & 0\\\\0.384615384615437 & 0.384615384615437 & 0.230769230769262 & 0 & 0 & 0\\\\0.295857988165721 & 0.295857988165721 & 0.177514792899432 & 3.21851936893618 \\cdot 10^{-725} & 2.78731953607099 \\cdot 10^{-725} & 0.230769230769231\\\\0.236686390532576 & 0.236686390532576 & 0.142011834319546 & 3.71642604809465 \\cdot 10^{-725} & 3.21851936893618 \\cdot 10^{-725} & 0.384615384615385\\\\0 & 0 & 0 & 0 & 0 & 1\\end{matrix}\\right]$"
      ],
      "text/plain": [
       "Matrix([\n",
       "[0.384615384615437, 0.384615384615437, 0.230769230769262,                     0,                     0,                 0],\n",
       "[0.384615384615437, 0.384615384615437, 0.230769230769262,                     0,                     0,                 0],\n",
       "[0.384615384615437, 0.384615384615437, 0.230769230769262,                     0,                     0,                 0],\n",
       "[0.295857988165721, 0.295857988165721, 0.177514792899432, 3.21851936893618e-725, 2.78731953607099e-725, 0.230769230769231],\n",
       "[0.236686390532576, 0.236686390532576, 0.142011834319546, 3.71642604809465e-725, 3.21851936893618e-725, 0.384615384615385],\n",
       "[                0,                 0,                 0,                     0,                     0,                 1]])"
      ]
     },
     "execution_count": 23,
     "metadata": {},
     "output_type": "execute_result"
    }
   ],
   "source": [
    "A**10000"
   ]
  },
  {
   "cell_type": "markdown",
   "metadata": {},
   "source": [
    "#### (a)"
   ]
  },
  {
   "cell_type": "code",
   "execution_count": 20,
   "metadata": {},
   "outputs": [
    {
     "data": {
      "text/latex": [
       "$\\displaystyle 1056.69291338583$"
      ],
      "text/plain": [
       "1056.69291338583"
      ]
     },
     "execution_count": 20,
     "metadata": {},
     "output_type": "execute_result"
    }
   ],
   "source": [
    "from sympy import shape\n",
    "import sympy as sp\n",
    "import random \n",
    "D = 0.9\n",
    "A = sp.Matrix([[0.3,0.4,0.3], [0.4,0.3,0.3], [0.5,0.5,0]])\n",
    "I = sp.Matrix([[1,0,0], [0,1,0], [0,0,1]])\n",
    "R = sp.Matrix([[50], [30], [20]])\n",
    "\n",
    "P_inv = (I-D*A).inv()\n",
    "\n",
    "J = P_inv*R\n",
    "\n",
    "J[0] + J[1] + J[2]"
   ]
  },
  {
   "cell_type": "code",
   "execution_count": 2,
   "metadata": {},
   "outputs": [
    {
     "data": {
      "text/latex": [
       "$\\displaystyle \\left[\\begin{matrix}-126.923076923077\\\\-161.538461538462\\end{matrix}\\right]$"
      ],
      "text/plain": [
       "Matrix([\n",
       "[-126.923076923077],\n",
       "[-161.538461538462]])"
      ]
     },
     "execution_count": 2,
     "metadata": {},
     "output_type": "execute_result"
    }
   ],
   "source": [
    "from sympy import shape\n",
    "import sympy as sp\n",
    "import random \n",
    "A = sp.Matrix([[0.5,0.3], [0.4,0.5]])\n",
    "I = sp.Matrix([[1,0], [0,1]])\n",
    "b = sp.Matrix([[-15], [-30]])\n",
    "\n",
    "(I-A).inv()*b"
   ]
  }
 ],
 "metadata": {
  "kernelspec": {
   "display_name": "Python 3",
   "language": "python",
   "name": "python3"
  },
  "language_info": {
   "codemirror_mode": {
    "name": "ipython",
    "version": 3
   },
   "file_extension": ".py",
   "mimetype": "text/x-python",
   "name": "python",
   "nbconvert_exporter": "python",
   "pygments_lexer": "ipython3",
   "version": "3.10.6"
  }
 },
 "nbformat": 4,
 "nbformat_minor": 2
}

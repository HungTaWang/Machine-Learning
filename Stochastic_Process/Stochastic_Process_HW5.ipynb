{
 "cells": [
  {
   "cell_type": "markdown",
   "metadata": {},
   "source": [
    "# Stochastic_Process_HW5"
   ]
  },
  {
   "cell_type": "markdown",
   "metadata": {},
   "source": [
    "## 王泓達_R13546017"
   ]
  },
  {
   "cell_type": "markdown",
   "metadata": {},
   "source": [
    "### 1."
   ]
  },
  {
   "cell_type": "markdown",
   "metadata": {},
   "source": [
    "#### (a)"
   ]
  },
  {
   "cell_type": "code",
   "execution_count": 1,
   "metadata": {},
   "outputs": [],
   "source": [
    "from sympy import shape\n",
    "import sympy as sp\n",
    "import random \n",
    "A = sp.Matrix([[0.5,0.5], [1/3,2/3]])\n",
    "b = sp.Matrix([[1,0]])\n",
    "\n",
    "c1 = b*A\n",
    "c2 = b*A*A"
   ]
  },
  {
   "cell_type": "markdown",
   "metadata": {},
   "source": [
    "#### $P^{1} = $\n",
    "$$\\left[\\begin{matrix}0.5 & 0.5\\end{matrix}\\right]$$\n",
    "\n",
    "#### $P^{2} = $\n",
    "$$\\left[\\begin{matrix}0.416666666666667 & 0.583333333333333\\end{matrix}\\right]$$\n"
   ]
  },
  {
   "cell_type": "code",
   "execution_count": 2,
   "metadata": {},
   "outputs": [
    {
     "name": "stdout",
     "output_type": "stream",
     "text": [
      "The expected total number of storms in the next two year:  4.16666666666667\n"
     ]
    }
   ],
   "source": [
    "print(\"The expected total number of storms in the next two year: \", c1[0] * 1 + c1[1] * 3 + c2[0] * 1 + c2[1] * 3)"
   ]
  },
  {
   "cell_type": "markdown",
   "metadata": {},
   "source": [
    "#### (b)"
   ]
  },
  {
   "cell_type": "code",
   "execution_count": 3,
   "metadata": {},
   "outputs": [],
   "source": [
    "import math\n",
    "c = b*A*A*A"
   ]
  },
  {
   "cell_type": "markdown",
   "metadata": {},
   "source": [
    "#### $P^{3} = $\n",
    "$$\\left[\\begin{matrix}0.402777777777778  & 0.597222222222222\\end{matrix}\\right]$$"
   ]
  },
  {
   "cell_type": "code",
   "execution_count": 4,
   "metadata": {},
   "outputs": [
    {
     "name": "stdout",
     "output_type": "stream",
     "text": [
      "The probability there are no storms in year 3:  0.17791467613314532\n"
     ]
    }
   ],
   "source": [
    "print(\"The probability there are no storms in year 3: \", 0.4028*math.e**(-1) + 0.5972*math.e**(-3))"
   ]
  },
  {
   "cell_type": "markdown",
   "metadata": {},
   "source": [
    "#### (c)"
   ]
  },
  {
   "cell_type": "code",
   "execution_count": 5,
   "metadata": {},
   "outputs": [
    {
     "name": "stdout",
     "output_type": "stream",
     "text": [
      "The long-run average number of storms per year:  2.19999999999878\n"
     ]
    }
   ],
   "source": [
    "print(\"The long-run average number of storms per year: \", (b*A**10000)[0]* 1 + (b*A**10000)[1]* 3 )"
   ]
  },
  {
   "cell_type": "markdown",
   "metadata": {},
   "source": [
    "### 2."
   ]
  },
  {
   "cell_type": "code",
   "execution_count": 6,
   "metadata": {},
   "outputs": [],
   "source": [
    "from sympy import shape\n",
    "import sympy as sp\n",
    "import random \n",
    "A = sp.Matrix([[0.6, 0.4], [0.3, 0.7]])\n",
    "b = sp.Matrix([[0.5,0.5]])\n",
    "\n",
    "c = b*A**1000"
   ]
  },
  {
   "cell_type": "markdown",
   "metadata": {},
   "source": [
    "#### $\\pi = $ \n",
    "$$\\left[\\begin{matrix}0.428571428571408 & 0.571428571428544\\end{matrix}\\right]$$\n",
    "\n",
    "##### $\\pi_1 = 0.428571428571408$\n",
    "##### $\\pi_2 = 0.571428571428544$"
   ]
  },
  {
   "cell_type": "code",
   "execution_count": 7,
   "metadata": {},
   "outputs": [
    {
     "name": "stdout",
     "output_type": "stream",
     "text": [
      "Total income:  8.85714285714243\n"
     ]
    }
   ],
   "source": [
    "A2A = c[0] * 0.6\n",
    "A2B = c[0] * 0.4 + c[1] * 0.3\n",
    "B2B = c[1] * 0.7\n",
    "\n",
    "print(\"Total income: \", A2A*6 + A2B*12 + B2B*8)\n"
   ]
  },
  {
   "cell_type": "markdown",
   "metadata": {},
   "source": [
    "### 3."
   ]
  },
  {
   "cell_type": "code",
   "execution_count": 8,
   "metadata": {},
   "outputs": [
    {
     "name": "stdout",
     "output_type": "stream",
     "text": [
      "Long run fraction: \n",
      "trucks:  0.210526315789630\n",
      "cars:  0.789473684211114\n"
     ]
    }
   ],
   "source": [
    "from sympy import shape\n",
    "import sympy as sp\n",
    "import random \n",
    "A = sp.Matrix([[0.25, 0.75], [0.2, 0.8]])\n",
    "x= random.random()\n",
    "b = sp.Matrix([[x,1-x]])\n",
    "\n",
    "c = b*A**10000\n",
    "\n",
    "print(\"Long run fraction: \")\n",
    "print(\"trucks: \", c[0])\n",
    "print(\"cars: \", c[1])"
   ]
  },
  {
   "cell_type": "markdown",
   "metadata": {},
   "source": [
    "### 4."
   ]
  },
  {
   "cell_type": "code",
   "execution_count": 9,
   "metadata": {},
   "outputs": [
    {
     "name": "stdout",
     "output_type": "stream",
     "text": [
      "Decimal form: \n",
      "PI_0: 0.324324324324299\n",
      "PI_1: 0.162162162162150\n",
      "PI_2: 0.108108108108100\n",
      "PI_3: 0.0810810810810749\n",
      "PI_4: 0.324324324324299\n",
      "\n",
      "Fraction form: \n",
      "PI_0: 11.9999999999991/37\n",
      "PI_1: 5.99999999999954/37\n",
      "PI_2: 3.99999999999969/37\n",
      "PI_3: 2.99999999999977/37\n",
      "PI_4: 11.9999999999991/37\n",
      "\n",
      "Fraction form (rounded): \n",
      "PI_0: 12/37\n",
      "PI_1: 6/37\n",
      "PI_2: 4/37\n",
      "PI_3: 3/37\n",
      "PI_4: 12/37\n"
     ]
    }
   ],
   "source": [
    "from sympy import shape\n",
    "import sympy as sp\n",
    "import random \n",
    "A = sp.Matrix([ [0,0,0,0,1], \\\n",
    "                [1,0,0,0,0],\\\n",
    "                [0.5,0.5,0,0,0],\\\n",
    "                [1/3,1/3,1/3,0,0],\\\n",
    "                [1/4,1/4,1/4,1/4,0]])\n",
    "\n",
    "b = sp.Matrix([ [1,0,0,0,0]])\n",
    "\n",
    "y = b * A**10000\n",
    "print(\"Decimal form: \")\n",
    "for i in range((len(y))):\n",
    "    print(f\"PI_{i}: {y[i]}\")\n",
    "print(\"\")\n",
    "print(\"Fraction form: \")\n",
    "for i in range((len(y))):\n",
    "    print(f\"PI_{i}: {y[i]*37}/37\")\n",
    "print(\"\")\n",
    "print(\"Fraction form (rounded): \")\n",
    "for i in range((len(y))):\n",
    "    print(f\"PI_{i}: {round(y[i]*37)}/37\")"
   ]
  },
  {
   "cell_type": "markdown",
   "metadata": {},
   "source": [
    "### 5. "
   ]
  },
  {
   "cell_type": "code",
   "execution_count": 10,
   "metadata": {},
   "outputs": [],
   "source": [
    "from sympy import shape\n",
    "import sympy as sp\n",
    "import random \n",
    "A = sp.Matrix([ [0,0.4,0,0,0,0], \\\n",
    "                [0.6,0,0.4,0,0,0],\\\n",
    "                [0,0.6,0,0.4,0,0],\\\n",
    "                [0,0,0.6,0,0.4,0],\\\n",
    "                [0,0,0,0.6,0,0.4],\\\n",
    "                [0,0,0,0,0.6,0]])\n",
    "\n",
    "I = sp.Matrix([ [1,0,0,0,0,0], \\\n",
    "                [0,1,0,0,0,0],\\\n",
    "                [0,0,1,0,0,0],\\\n",
    "                [0,0,0,1,0,0],\\\n",
    "                [0,0,0,0,1,0],\\\n",
    "                [0,0,0,0,0,1]])\n",
    "\n",
    "C = (I-A).inv()"
   ]
  },
  {
   "cell_type": "markdown",
   "metadata": {},
   "source": [
    "#### $P$ = \n",
    "$$\\left[\\begin{matrix}0 & 0.4 & 0 & 0 & 0 & 0\\\\0.6 & 0 & 0.4 & 0 & 0 & 0\\\\0 & 0.6 & 0 & 0.4 & 0 & 0\\\\0 & 0 & 0.6 & 0 & 0.4 & 0\\\\0 & 0 & 0 & 0.6 & 0 & 0.4\\\\0 & 0 & 0 & 0 & 0.6 & 0\\end{matrix}\\right]\n",
    "$$\n",
    "\n",
    "#### $(I-P)^{-1}$ = \n",
    "$$\\left[\\begin{matrix}1.61486158329286 & 1.0247693054881 & 0.631374453618261 & 0.369111219038368 & 0.194269062651773 & 0.0777076250607091\\\\1.53715395823215 & 2.56192326372025 & 1.57843613404565 & 0.92277804759592 & 0.485672656629432 & 0.194269062651773\\\\1.42059252064109 & 2.36765420106848 & 2.99902865468674 & 1.75327829043225 & 0.92277804759592 & 0.369111219038368\\\\1.24575036425449 & 2.07625060709082 & 2.62991743564837 & 2.99902865468674 & 1.57843613404565 & 0.631374453618261\\\\0.983487129674599 & 1.63914521612433 & 2.07625060709082 & 2.36765420106848 & 2.56192326372025 & 1.0247693054881\\\\0.590092277804759 & 0.983487129674599 & 1.24575036425449 & 1.42059252064109 & 1.53715395823215 & 1.61486158329286\\end{matrix}\\right]$$\n"
   ]
  },
  {
   "cell_type": "markdown",
   "metadata": {},
   "source": [
    "#### (a)"
   ]
  },
  {
   "cell_type": "code",
   "execution_count": 11,
   "metadata": {},
   "outputs": [
    {
     "name": "stdout",
     "output_type": "stream",
     "text": [
      "The expected amount of time the gambler has 5 units:  0.922778047595920\n"
     ]
    }
   ],
   "source": [
    "print(\"The expected amount of time the gambler has 5 units: \", C[2,4])"
   ]
  },
  {
   "cell_type": "markdown",
   "metadata": {},
   "source": [
    "#### (b)"
   ]
  },
  {
   "cell_type": "code",
   "execution_count": 12,
   "metadata": {},
   "outputs": [
    {
     "name": "stdout",
     "output_type": "stream",
     "text": [
      "The probability that the gambler ever has a fortune of 1:  0.879699248120301\n"
     ]
    }
   ],
   "source": [
    "print(\"The probability that the gambler ever has a fortune of 1: \", C[2,0]/C[0,0])"
   ]
  }
 ],
 "metadata": {
  "kernelspec": {
   "display_name": "Python 3",
   "language": "python",
   "name": "python3"
  },
  "language_info": {
   "codemirror_mode": {
    "name": "ipython",
    "version": 3
   },
   "file_extension": ".py",
   "mimetype": "text/x-python",
   "name": "python",
   "nbconvert_exporter": "python",
   "pygments_lexer": "ipython3",
   "version": "3.10.6"
  }
 },
 "nbformat": 4,
 "nbformat_minor": 2
}

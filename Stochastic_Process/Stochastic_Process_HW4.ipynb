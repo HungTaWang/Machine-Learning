{
 "cells": [
  {
   "cell_type": "markdown",
   "metadata": {},
   "source": [
    "# Stochastic_Process_HW6"
   ]
  },
  {
   "cell_type": "markdown",
   "metadata": {},
   "source": [
    "## 王泓達_R13546017"
   ]
  },
  {
   "cell_type": "markdown",
   "metadata": {},
   "source": [
    "### 1."
   ]
  },
  {
   "cell_type": "code",
   "execution_count": 1,
   "metadata": {},
   "outputs": [
    {
     "data": {
      "text/latex": [
       "$\\displaystyle 0.7048$"
      ],
      "text/plain": [
       "0.704800000000000"
      ]
     },
     "execution_count": 1,
     "metadata": {},
     "output_type": "execute_result"
    }
   ],
   "source": [
    "from sympy import shape\n",
    "import sympy as sp\n",
    "import random \n",
    "A = sp.Matrix([[0.8,0.2,0], [0.1,0.8,0.1], [0,0.2,0.8]])\n",
    "b = sp.Matrix([[1,0,0]])\n",
    "\n",
    "\n",
    "\n",
    "(b*A*A*A*A)[0]*1 + (b*A*A*A*A)[1]*0.5"
   ]
  },
  {
   "cell_type": "markdown",
   "metadata": {},
   "source": [
    "### 2."
   ]
  },
  {
   "cell_type": "code",
   "execution_count": 2,
   "metadata": {},
   "outputs": [
    {
     "data": {
      "text/latex": [
       "$\\displaystyle 0.656$"
      ],
      "text/plain": [
       "0.656000000000000"
      ]
     },
     "execution_count": 2,
     "metadata": {},
     "output_type": "execute_result"
    }
   ],
   "source": [
    "from sympy import shape\n",
    "import sympy as sp\n",
    "import random \n",
    "A = sp.Matrix([[0.8, 0.2], [0.4, 0.6]])\n",
    "b = sp.Matrix([[0.5, 0.5]])\n",
    "\n",
    "(b*A**3)[0]"
   ]
  },
  {
   "cell_type": "markdown",
   "metadata": {},
   "source": [
    "### 4. "
   ]
  },
  {
   "cell_type": "code",
   "execution_count": 3,
   "metadata": {},
   "outputs": [
    {
     "data": {
      "text/latex": [
       "$\\displaystyle \\left[\\begin{matrix}0.71428571428575 & 0.14285714285715 & 0.14285714285715\\end{matrix}\\right]$"
      ],
      "text/plain": [
       "Matrix([[0.71428571428575, 0.14285714285715, 0.14285714285715]])"
      ]
     },
     "execution_count": 3,
     "metadata": {},
     "output_type": "execute_result"
    }
   ],
   "source": [
    "from sympy import shape\n",
    "import sympy as sp\n",
    "import random \n",
    "A = sp.Matrix([[0.8, 0.1, 0.1], [0.6, 0.2, 0.2], [0.4, 0.3, 0.3]])\n",
    "b = sp.Matrix([[0.4, 0.6, 0]])\n",
    "\n",
    "b*A**1000"
   ]
  },
  {
   "cell_type": "markdown",
   "metadata": {},
   "source": [
    "### 5. "
   ]
  },
  {
   "cell_type": "code",
   "execution_count": 4,
   "metadata": {},
   "outputs": [
    {
     "data": {
      "text/latex": [
       "$\\displaystyle 0.585$"
      ],
      "text/plain": [
       "0.585000000000000"
      ]
     },
     "execution_count": 4,
     "metadata": {},
     "output_type": "execute_result"
    }
   ],
   "source": [
    "from sympy import shape\n",
    "import sympy as sp\n",
    "import random \n",
    "\n",
    "A = sp.Matrix([[0.5,0.4,0],[0.3,0.4,0],[0,0,0]])\n",
    "b = sp.Matrix([[1,0,0]])\n",
    "\n",
    "(b*A*A*A)[0]+(b*A*A*A)[1]"
   ]
  }
 ],
 "metadata": {
  "kernelspec": {
   "display_name": "Python 3",
   "language": "python",
   "name": "python3"
  },
  "language_info": {
   "codemirror_mode": {
    "name": "ipython",
    "version": 3
   },
   "file_extension": ".py",
   "mimetype": "text/x-python",
   "name": "python",
   "nbconvert_exporter": "python",
   "pygments_lexer": "ipython3",
   "version": "3.10.6"
  }
 },
 "nbformat": 4,
 "nbformat_minor": 2
}
